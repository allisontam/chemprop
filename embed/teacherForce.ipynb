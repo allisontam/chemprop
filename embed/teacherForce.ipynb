{
 "cells": [
  {
   "cell_type": "code",
   "execution_count": 31,
   "metadata": {},
   "outputs": [],
   "source": [
    "import sys\n",
    "import pickle as pkl\n",
    "from collections import OrderedDict\n",
    "\n",
    "from embedMatrix import MatrixEst\n",
    "from chemprop.models import MPN\n",
    "from chemprop.parsing import parse_train_args"
   ]
  },
  {
   "cell_type": "code",
   "execution_count": 58,
   "metadata": {},
   "outputs": [],
   "source": [
    "import torch\n",
    "import torch.nn as nn\n",
    "import torch.optim as optim"
   ]
  },
  {
   "cell_type": "markdown",
   "metadata": {},
   "source": [
    "# Train GCN"
   ]
  },
  {
   "cell_type": "code",
   "execution_count": 7,
   "metadata": {},
   "outputs": [],
   "source": [
    "sys.argv = ['train.py', '--data_path', 'tmp.csv', '--dataset_type', 'classification', '--num_folds', '10', '--metric', 'prc-auc', '--embed_dir', 'tmp.lol']"
   ]
  },
  {
   "cell_type": "code",
   "execution_count": 8,
   "metadata": {},
   "outputs": [
    {
     "name": "stdout",
     "output_type": "stream",
     "text": [
      "Using GPU False None\n"
     ]
    },
    {
     "data": {
      "text/plain": [
       "{'gpu': None,\n",
       " 'data_path': 'tmp.csv',\n",
       " 'use_compound_names': False,\n",
       " 'max_data_size': None,\n",
       " 'test': False,\n",
       " 'features_only': False,\n",
       " 'features_generator': None,\n",
       " 'features_path': None,\n",
       " 'save_dir': '/var/folders/7c/8ljs73ts2m1gwpnddwdnyw600000gn/T/tmpgixbx5e6',\n",
       " 'save_smiles_splits': False,\n",
       " 'checkpoint_dir': None,\n",
       " 'checkpoint_path': None,\n",
       " 'dataset_type': 'classification',\n",
       " 'multiclass_num_classes': 3,\n",
       " 'separate_val_path': None,\n",
       " 'separate_val_features_path': None,\n",
       " 'separate_test_path': None,\n",
       " 'separate_test_features_path': None,\n",
       " 'split_type': 'random',\n",
       " 'split_sizes': [0.8, 0.1, 0.1],\n",
       " 'num_folds': 10,\n",
       " 'folds_file': None,\n",
       " 'val_fold_index': None,\n",
       " 'test_fold_index': None,\n",
       " 'crossval_index_dir': None,\n",
       " 'crossval_index_file': None,\n",
       " 'seed': 0,\n",
       " 'metric': 'prc-auc',\n",
       " 'quiet': False,\n",
       " 'log_frequency': 10,\n",
       " 'show_individual_scores': False,\n",
       " 'no_cache': False,\n",
       " 'config_path': None,\n",
       " 'epochs': 30,\n",
       " 'batch_size': 50,\n",
       " 'warmup_epochs': 2.0,\n",
       " 'init_lr': 0.0001,\n",
       " 'max_lr': 0.001,\n",
       " 'final_lr': 0.0001,\n",
       " 'train_all': False,\n",
       " 'ensemble_size': 1,\n",
       " 'hidden_size': 300,\n",
       " 'bias': False,\n",
       " 'depth': 3,\n",
       " 'dropout': 0.0,\n",
       " 'activation': 'ReLU',\n",
       " 'undirected': False,\n",
       " 'ffn_hidden_size': 300,\n",
       " 'ffn_num_layers': 2,\n",
       " 'atom_messages': False,\n",
       " 'drug_only': False,\n",
       " 'cmpd_only': False,\n",
       " 'embed_dir': 'tmp.lol',\n",
       " 'cuda': False,\n",
       " 'features_scaling': True,\n",
       " 'minimize_score': False,\n",
       " 'checkpoint_paths': None,\n",
       " 'use_input_features': None,\n",
       " 'num_lrs': 1}"
      ]
     },
     "execution_count": 8,
     "metadata": {},
     "output_type": "execute_result"
    }
   ],
   "source": [
    "args = parse_train_args()\n",
    "vars(args)"
   ]
  },
  {
   "cell_type": "code",
   "execution_count": 47,
   "metadata": {},
   "outputs": [
    {
     "data": {
      "text/plain": [
       "MPN(\n",
       "  (encoder): MPNEncoder(\n",
       "    (dropout_layer): Dropout(p=0.0, inplace=False)\n",
       "    (act_func): ReLU()\n",
       "    (W_i): Linear(in_features=147, out_features=300, bias=False)\n",
       "    (W_h): Linear(in_features=300, out_features=300, bias=False)\n",
       "    (W_o): Linear(in_features=433, out_features=300, bias=True)\n",
       "  )\n",
       ")"
      ]
     },
     "execution_count": 47,
     "metadata": {},
     "output_type": "execute_result"
    }
   ],
   "source": [
    "gcn = MPN(args, 133, 147, False)\n",
    "gcn"
   ]
  },
  {
   "cell_type": "code",
   "execution_count": 43,
   "metadata": {
    "collapsed": true
   },
   "outputs": [
    {
     "data": {
      "text/plain": [
       "OrderedDict([('encoder.cached_zero_vector',\n",
       "              tensor([0., 0., 0., 0., 0., 0., 0., 0., 0., 0., 0., 0., 0., 0., 0., 0., 0., 0., 0., 0., 0., 0., 0., 0.,\n",
       "                      0., 0., 0., 0., 0., 0., 0., 0., 0., 0., 0., 0., 0., 0., 0., 0., 0., 0., 0., 0., 0., 0., 0., 0.,\n",
       "                      0., 0., 0., 0., 0., 0., 0., 0., 0., 0., 0., 0., 0., 0., 0., 0., 0., 0., 0., 0., 0., 0., 0., 0.,\n",
       "                      0., 0., 0., 0., 0., 0., 0., 0., 0., 0., 0., 0., 0., 0., 0., 0., 0., 0., 0., 0., 0., 0., 0., 0.,\n",
       "                      0., 0., 0., 0., 0., 0., 0., 0., 0., 0., 0., 0., 0., 0., 0., 0., 0., 0., 0., 0., 0., 0., 0., 0.,\n",
       "                      0., 0., 0., 0., 0., 0., 0., 0., 0., 0., 0., 0., 0., 0., 0., 0., 0., 0., 0., 0., 0., 0., 0., 0.,\n",
       "                      0., 0., 0., 0., 0., 0., 0., 0., 0., 0., 0., 0., 0., 0., 0., 0., 0., 0., 0., 0., 0., 0., 0., 0.,\n",
       "                      0., 0., 0., 0., 0., 0., 0., 0., 0., 0., 0., 0., 0., 0., 0., 0., 0., 0., 0., 0., 0., 0., 0., 0.,\n",
       "                      0., 0., 0., 0., 0., 0., 0., 0., 0., 0., 0., 0., 0., 0., 0., 0., 0., 0., 0., 0., 0., 0., 0., 0.,\n",
       "                      0., 0., 0., 0., 0., 0., 0., 0., 0., 0., 0., 0., 0., 0., 0., 0., 0., 0., 0., 0., 0., 0., 0., 0.,\n",
       "                      0., 0., 0., 0., 0., 0., 0., 0., 0., 0., 0., 0., 0., 0., 0., 0., 0., 0., 0., 0., 0., 0., 0., 0.,\n",
       "                      0., 0., 0., 0., 0., 0., 0., 0., 0., 0., 0., 0., 0., 0., 0., 0., 0., 0., 0., 0., 0., 0., 0., 0.,\n",
       "                      0., 0., 0., 0., 0., 0., 0., 0., 0., 0., 0., 0.])),\n",
       "             ('encoder.W_i.weight',\n",
       "              tensor([[ 0.0739, -0.0274, -0.2531,  ..., -0.2153,  0.1977,  0.0195],\n",
       "                      [-0.0332,  0.0789,  0.2133,  ...,  0.1922,  0.1825, -0.2104],\n",
       "                      [-0.0186,  0.0733, -0.0806,  ..., -0.1297,  0.1095,  0.1823],\n",
       "                      ...,\n",
       "                      [-0.1011, -0.2609,  0.0259,  ...,  0.2620,  0.0440,  0.0744],\n",
       "                      [-0.0350,  0.1943, -0.0245,  ...,  0.2597, -0.2205, -0.1272],\n",
       "                      [-0.1652, -0.0319, -0.2185,  ...,  0.0623,  0.1504, -0.2530]])),\n",
       "             ('encoder.W_h.weight',\n",
       "              tensor([[-1.8386e-02,  5.7411e-02,  4.0321e-02,  ..., -3.7150e-02,\n",
       "                        2.8869e-03, -4.4703e-07],\n",
       "                      [-4.0735e-02,  1.9573e-02, -2.3404e-02,  ...,  4.7741e-03,\n",
       "                        1.5603e-02,  5.8515e-04],\n",
       "                      [-1.0209e-02,  3.3344e-02, -3.9859e-02,  ...,  1.1196e-02,\n",
       "                       -2.0157e-02,  3.7423e-02],\n",
       "                      ...,\n",
       "                      [ 3.4828e-04, -4.4650e-02,  4.5528e-02,  ...,  1.4096e-02,\n",
       "                       -2.8326e-02, -5.0461e-02],\n",
       "                      [ 2.8030e-02, -5.7061e-02, -5.5962e-02,  ...,  1.7726e-02,\n",
       "                        3.6645e-02,  4.9044e-02],\n",
       "                      [-4.8386e-02, -4.7703e-03, -3.1350e-02,  ..., -1.6171e-02,\n",
       "                        5.1466e-04,  3.5943e-02]])),\n",
       "             ('encoder.W_o.weight',\n",
       "              tensor([[ 0.0477,  0.0233, -0.0040,  ..., -0.0081,  0.0293, -0.0412],\n",
       "                      [ 0.0019,  0.0047, -0.0472,  ...,  0.0467,  0.0433,  0.0078],\n",
       "                      [ 0.0269, -0.0313, -0.0051,  ...,  0.0399,  0.0079, -0.0100],\n",
       "                      ...,\n",
       "                      [ 0.0478,  0.0389, -0.0449,  ...,  0.0254, -0.0290,  0.0048],\n",
       "                      [ 0.0011,  0.0249,  0.0238,  ..., -0.0206,  0.0299, -0.0281],\n",
       "                      [ 0.0474, -0.0453, -0.0298,  ...,  0.0242,  0.0402, -0.0216]])),\n",
       "             ('encoder.W_o.bias',\n",
       "              tensor([ 1.6461e-02,  2.3325e-03,  3.8908e-02, -1.0141e-02,  2.9414e-02,\n",
       "                       2.3772e-02,  6.4133e-04, -1.9775e-02, -4.7246e-02, -7.6190e-03,\n",
       "                       3.0633e-02,  3.5023e-02,  3.8502e-02, -7.9395e-03, -4.1114e-02,\n",
       "                      -2.9978e-02, -1.3752e-02,  2.1653e-02,  3.4436e-02,  3.4669e-02,\n",
       "                       1.2335e-02, -3.1063e-02,  2.9602e-02,  2.6504e-02, -3.9714e-02,\n",
       "                       4.3554e-02, -3.5510e-02,  1.0370e-02, -3.4639e-02, -1.6302e-02,\n",
       "                       1.2080e-02, -2.6356e-02,  1.4427e-02, -3.1839e-02, -3.9000e-02,\n",
       "                      -3.1942e-02, -5.4146e-03,  4.0600e-03,  2.3436e-02, -3.5840e-02,\n",
       "                       3.0480e-02,  3.9032e-02, -2.0987e-02,  4.1071e-02, -3.4572e-02,\n",
       "                       4.2275e-02,  4.1727e-02, -2.2876e-02, -1.3659e-03,  2.4131e-02,\n",
       "                       4.5765e-02,  3.8479e-02, -1.2401e-02, -2.9177e-02, -4.1258e-02,\n",
       "                       6.9596e-04, -4.5763e-02,  4.1640e-02,  1.4453e-02, -1.5942e-02,\n",
       "                      -1.9820e-02,  4.4435e-02,  7.0868e-03,  2.8007e-02,  2.6749e-02,\n",
       "                       2.0897e-02, -1.3864e-03, -2.5714e-02, -1.5803e-02, -3.8771e-02,\n",
       "                      -3.6814e-02, -1.4054e-02,  3.0074e-03, -4.4572e-03,  9.6593e-03,\n",
       "                      -3.2939e-05, -6.0614e-03,  3.9407e-02,  4.7520e-02,  1.0163e-02,\n",
       "                       1.0078e-02, -3.9439e-02,  2.0339e-02, -2.6973e-02, -3.2146e-05,\n",
       "                      -2.6939e-02,  3.0482e-02,  3.1322e-02,  1.4349e-02,  2.7703e-02,\n",
       "                       1.5501e-02,  3.8325e-02,  4.2465e-03, -3.3047e-02, -1.3950e-02,\n",
       "                      -2.0590e-02, -3.4214e-03,  1.4311e-02,  3.0411e-02,  4.1994e-02,\n",
       "                       1.5249e-02,  3.5547e-02,  4.1808e-02,  3.8209e-02,  4.7895e-02,\n",
       "                       1.2896e-02,  1.0671e-02, -4.2141e-02, -2.4100e-02, -8.3686e-03,\n",
       "                      -1.5051e-02,  3.5360e-02,  2.2826e-02,  4.3752e-02, -3.3854e-02,\n",
       "                      -3.0904e-02, -3.6025e-02, -1.3416e-02,  4.7226e-02, -7.5479e-03,\n",
       "                      -3.3956e-02, -6.7669e-03,  4.0685e-02,  4.4559e-02, -7.9364e-03,\n",
       "                       2.1046e-02,  2.8812e-03,  3.5188e-02,  3.8600e-02,  1.2249e-02,\n",
       "                      -1.6012e-02,  1.5567e-02, -5.1429e-03, -2.8146e-02, -4.4749e-02,\n",
       "                       3.5051e-02,  4.6795e-02, -6.3248e-03,  4.5176e-02,  2.2194e-02,\n",
       "                      -3.6242e-02, -2.5793e-02, -2.7391e-02,  2.3961e-02, -3.1365e-02,\n",
       "                      -3.9736e-02,  2.3750e-02, -1.2348e-03,  7.0244e-03, -4.3351e-02,\n",
       "                      -4.3799e-02, -4.4772e-02,  1.6468e-02, -4.2028e-02,  3.0819e-02,\n",
       "                       4.7793e-02,  1.3333e-02,  1.3264e-03, -1.8519e-02,  3.4929e-02,\n",
       "                      -3.8601e-02,  2.2943e-02,  3.8065e-02,  3.6082e-02, -2.1534e-02,\n",
       "                       4.2816e-02,  3.7198e-02, -4.0302e-02, -3.1420e-02,  9.7753e-03,\n",
       "                       3.2842e-02, -2.3108e-02, -2.9346e-02, -8.5461e-03,  2.9166e-02,\n",
       "                       2.9244e-02,  4.1511e-02, -2.0878e-02,  2.4308e-03, -4.5643e-02,\n",
       "                       2.7823e-02, -4.4238e-02, -3.7339e-02, -3.2187e-02,  7.8260e-03,\n",
       "                      -4.5477e-02,  2.1127e-02,  1.0489e-02,  9.5078e-03, -2.1912e-03,\n",
       "                       2.0768e-02,  7.5738e-03,  2.0140e-02, -4.2630e-02, -4.4186e-02,\n",
       "                      -4.5461e-02,  4.5871e-02,  4.5949e-02,  4.4212e-03, -3.9210e-02,\n",
       "                      -2.5823e-02, -2.2372e-02, -4.1299e-02, -4.0464e-02, -2.8745e-02,\n",
       "                      -8.5237e-04, -4.2911e-02, -1.7369e-03, -4.2888e-02, -2.2979e-03,\n",
       "                      -1.8748e-03, -1.4233e-02, -1.6450e-02,  2.6849e-02, -2.3708e-02,\n",
       "                      -4.1089e-02,  1.9389e-02,  6.2666e-03,  2.6670e-03,  3.1879e-02,\n",
       "                       4.4511e-02, -4.7706e-02, -2.2152e-04,  3.0807e-02,  3.6817e-02,\n",
       "                       4.4561e-02,  2.2711e-04, -1.5730e-02,  4.4178e-02,  3.8045e-02,\n",
       "                      -4.4389e-02, -7.3956e-04, -1.9660e-02, -4.2363e-02,  3.5869e-02,\n",
       "                       1.0103e-02,  3.1554e-02,  1.6681e-02,  1.4716e-02, -2.2359e-02,\n",
       "                       2.2071e-04,  3.4595e-02,  4.0262e-02,  2.0350e-03,  3.1158e-02,\n",
       "                      -3.4939e-02, -3.9583e-02, -3.8643e-02,  4.4632e-02,  1.6432e-02,\n",
       "                      -2.2825e-02, -2.6632e-02,  4.1522e-03,  2.4759e-02,  6.0592e-03,\n",
       "                      -3.7823e-02,  4.5842e-02, -1.4804e-03, -4.7015e-02, -2.8021e-02,\n",
       "                      -2.9812e-02, -3.4066e-02, -3.3190e-02,  3.2504e-02, -1.8507e-02,\n",
       "                       2.6239e-03, -2.9536e-02,  3.3426e-02, -3.4201e-02,  2.1608e-02,\n",
       "                       2.6504e-02,  4.3919e-02,  6.6149e-03, -2.5671e-02,  3.2031e-02,\n",
       "                       3.9869e-02, -4.5284e-02,  3.2656e-02, -1.8634e-02,  8.1654e-03,\n",
       "                      -3.3148e-02,  3.5804e-02, -3.5845e-02,  1.8477e-02,  8.8988e-03,\n",
       "                      -2.0717e-02, -1.4105e-02,  2.9525e-02, -4.5502e-02,  1.7449e-03,\n",
       "                      -1.6715e-02,  4.7896e-02,  2.5510e-02, -4.3853e-02,  2.5615e-02,\n",
       "                       5.9971e-03, -8.7975e-03, -3.5695e-02,  2.5813e-02,  3.9404e-02]))])"
      ]
     },
     "execution_count": 43,
     "metadata": {},
     "output_type": "execute_result"
    }
   ],
   "source": [
    "gcn.state_dict()"
   ]
  },
  {
   "cell_type": "code",
   "execution_count": 19,
   "metadata": {},
   "outputs": [
    {
     "data": {
      "text/html": [
       "<div>\n",
       "<style scoped>\n",
       "    .dataframe tbody tr th:only-of-type {\n",
       "        vertical-align: middle;\n",
       "    }\n",
       "\n",
       "    .dataframe tbody tr th {\n",
       "        vertical-align: top;\n",
       "    }\n",
       "\n",
       "    .dataframe thead th {\n",
       "        text-align: right;\n",
       "    }\n",
       "</style>\n",
       "<table border=\"1\" class=\"dataframe\">\n",
       "  <thead>\n",
       "    <tr style=\"text-align: right;\">\n",
       "      <th></th>\n",
       "      <th>drugSMILE</th>\n",
       "      <th>exSMILE</th>\n",
       "      <th>agg</th>\n",
       "    </tr>\n",
       "  </thead>\n",
       "  <tbody>\n",
       "    <tr>\n",
       "      <th>0</th>\n",
       "      <td>CNC(=O)C1=NC=CC(OC2=CC=C(NC(=O)NC3=CC(=C(Cl)C=...</td>\n",
       "      <td>CN1C=NC2=C1C(=O)N(C(=O)N2C)C</td>\n",
       "      <td>0</td>\n",
       "    </tr>\n",
       "    <tr>\n",
       "      <th>1</th>\n",
       "      <td>CNC(=O)C1=NC=CC(OC2=CC=C(NC(=O)NC3=CC(=C(Cl)C=...</td>\n",
       "      <td>C(CC(=O)O)C(=O)O</td>\n",
       "      <td>0</td>\n",
       "    </tr>\n",
       "    <tr>\n",
       "      <th>2</th>\n",
       "      <td>CNC(=O)C1=NC=CC(OC2=CC=C(NC(=O)NC3=CC(=C(Cl)C=...</td>\n",
       "      <td>CCCCCCCCOC(=O)C1=CC(=C(C(=C1)O)O)O</td>\n",
       "      <td>0</td>\n",
       "    </tr>\n",
       "    <tr>\n",
       "      <th>3</th>\n",
       "      <td>CNC(=O)C1=NC=CC(OC2=CC=C(NC(=O)NC3=CC(=C(Cl)C=...</td>\n",
       "      <td>C(C(C(=O)O)O)C(=O)O</td>\n",
       "      <td>0</td>\n",
       "    </tr>\n",
       "    <tr>\n",
       "      <th>4</th>\n",
       "      <td>CNC(=O)C1=NC=CC(OC2=CC=C(NC(=O)NC3=CC(=C(Cl)C=...</td>\n",
       "      <td>C(CCC(=O)O)CC(=O)O</td>\n",
       "      <td>0</td>\n",
       "    </tr>\n",
       "  </tbody>\n",
       "</table>\n",
       "</div>"
      ],
      "text/plain": [
       "                                           drugSMILE  \\\n",
       "0  CNC(=O)C1=NC=CC(OC2=CC=C(NC(=O)NC3=CC(=C(Cl)C=...   \n",
       "1  CNC(=O)C1=NC=CC(OC2=CC=C(NC(=O)NC3=CC(=C(Cl)C=...   \n",
       "2  CNC(=O)C1=NC=CC(OC2=CC=C(NC(=O)NC3=CC(=C(Cl)C=...   \n",
       "3  CNC(=O)C1=NC=CC(OC2=CC=C(NC(=O)NC3=CC(=C(Cl)C=...   \n",
       "4  CNC(=O)C1=NC=CC(OC2=CC=C(NC(=O)NC3=CC(=C(Cl)C=...   \n",
       "\n",
       "                              exSMILE  agg  \n",
       "0        CN1C=NC2=C1C(=O)N(C(=O)N2C)C    0  \n",
       "1                    C(CC(=O)O)C(=O)O    0  \n",
       "2  CCCCCCCCOC(=O)C1=CC(=C(C(=C1)O)O)O    0  \n",
       "3                 C(C(C(=O)O)O)C(=O)O    0  \n",
       "4                  C(CCC(=O)O)CC(=O)O    0  "
      ]
     },
     "execution_count": 19,
     "metadata": {},
     "output_type": "execute_result"
    }
   ],
   "source": [
    "import pandas as pd\n",
    "data = pd.read_csv('../scripts/agg.csv')\n",
    "data.head()"
   ]
  },
  {
   "cell_type": "code",
   "execution_count": 25,
   "metadata": {},
   "outputs": [
    {
     "name": "stdout",
     "output_type": "stream",
     "text": [
      "embedMap.pkl  fold_2.pt     fold_5.pt     fold_8.pt\r\n",
      "fold_0.pt     fold_3.pt     fold_6.pt     fold_9.pt\r\n",
      "fold_1.pt     fold_4.pt     fold_7.pt     res.txt\r\n"
     ]
    }
   ],
   "source": [
    "ls aggModels_dim300_batch5k/"
   ]
  },
  {
   "cell_type": "code",
   "execution_count": 33,
   "metadata": {},
   "outputs": [],
   "source": [
    "EMBED_PATH = 'aggModels_dim300_batch5k/'"
   ]
  },
  {
   "cell_type": "code",
   "execution_count": 252,
   "metadata": {},
   "outputs": [
    {
     "data": {
      "text/plain": [
       "tensor([[-0.1871,  0.2981, -0.0076,  ..., -0.1496, -0.1848,  0.1024],\n",
       "        [-0.2197,  0.1945,  0.0362,  ..., -0.0053, -0.2117,  0.1911],\n",
       "        [-0.2036,  0.2378, -0.2169,  ..., -0.3162, -0.1227,  0.2198],\n",
       "        ...,\n",
       "        [-0.1322, -0.0771,  0.0554,  ..., -0.0064, -0.1151,  0.0752],\n",
       "        [-0.2370,  0.0583, -0.2200,  ..., -0.2609, -0.1899,  0.1774],\n",
       "        [-0.2100,  0.1816, -0.2785,  ..., -0.1153, -0.1439,  0.2344]])"
      ]
     },
     "execution_count": 252,
     "metadata": {},
     "output_type": "execute_result"
    }
   ],
   "source": [
    "lol = torch.load(EMBED_PATH + 'fold_1.pt')\n",
    "lol['drug.weight']"
   ]
  },
  {
   "cell_type": "code",
   "execution_count": 253,
   "metadata": {},
   "outputs": [
    {
     "data": {
      "text/plain": [
       "MatrixEst(\n",
       "  (drug): Embedding(16, 300)\n",
       "  (cmpd): Embedding(89, 300)\n",
       "  (ffn): Sequential(\n",
       "    (0): Linear(in_features=600, out_features=300, bias=True)\n",
       "    (1): ReLU()\n",
       "    (2): Linear(in_features=300, out_features=1, bias=True)\n",
       "  )\n",
       ")"
      ]
     },
     "execution_count": 253,
     "metadata": {},
     "output_type": "execute_result"
    }
   ],
   "source": [
    "embed = MatrixEst(len(set(data['drugSMILE'])), len(set(data['exSMILE'])))\n",
    "embed"
   ]
  },
  {
   "cell_type": "code",
   "execution_count": 254,
   "metadata": {},
   "outputs": [
    {
     "data": {
      "text/plain": [
       "<All keys matched successfully>"
      ]
     },
     "execution_count": 254,
     "metadata": {},
     "output_type": "execute_result"
    }
   ],
   "source": [
    "embed.load_state_dict(torch.load(EMBED_PATH + 'fold_1.pt'))"
   ]
  },
  {
   "cell_type": "code",
   "execution_count": 255,
   "metadata": {},
   "outputs": [
    {
     "data": {
      "text/plain": [
       "OrderedDict([('drug.weight',\n",
       "              tensor([[-0.1871,  0.2981, -0.0076,  ..., -0.1496, -0.1848,  0.1024],\n",
       "                      [-0.2197,  0.1945,  0.0362,  ..., -0.0053, -0.2117,  0.1911],\n",
       "                      [-0.2036,  0.2378, -0.2169,  ..., -0.3162, -0.1227,  0.2198],\n",
       "                      ...,\n",
       "                      [-0.1322, -0.0771,  0.0554,  ..., -0.0064, -0.1151,  0.0752],\n",
       "                      [-0.2370,  0.0583, -0.2200,  ..., -0.2609, -0.1899,  0.1774],\n",
       "                      [-0.2100,  0.1816, -0.2785,  ..., -0.1153, -0.1439,  0.2344]])),\n",
       "             ('cmpd.weight',\n",
       "              tensor([[ 0.1954, -0.1698,  0.1672,  ...,  0.1630,  0.1966, -0.2066],\n",
       "                      [ 0.2026, -0.1777,  0.1953,  ...,  0.1818,  0.2041, -0.1944],\n",
       "                      [ 0.1195, -0.0530,  0.0114,  ...,  0.0350,  0.1522, -0.1879],\n",
       "                      ...,\n",
       "                      [ 0.2065, -0.1401,  0.2001,  ...,  0.1594,  0.2076, -0.2051],\n",
       "                      [ 0.1366, -0.0817, -0.1405,  ..., -0.1092, -0.0391, -0.0694],\n",
       "                      [ 0.1145,  0.1326,  0.0496,  ..., -0.1621, -0.1124, -0.0932]])),\n",
       "             ('ffn.0.weight',\n",
       "              tensor([[-0.0297, -0.0397,  0.0112,  ...,  0.0303, -0.0179,  0.0363],\n",
       "                      [-0.0242,  0.0203,  0.0064,  ...,  0.0279, -0.0284, -0.0300],\n",
       "                      [-0.0124, -0.0277, -0.0227,  ...,  0.0184, -0.0330, -0.0318],\n",
       "                      ...,\n",
       "                      [ 0.0190,  0.0109, -0.0186,  ..., -0.0039, -0.0365, -0.0234],\n",
       "                      [-0.0314,  0.0171, -0.0249,  ...,  0.0324,  0.0152, -0.0185],\n",
       "                      [ 0.0125,  0.0265, -0.0298,  ..., -0.0387,  0.0359,  0.0387]])),\n",
       "             ('ffn.0.bias',\n",
       "              tensor([ 2.8660e-02,  4.0147e-02, -4.8349e-03,  2.8350e-03,  1.9766e-02,\n",
       "                      -3.3560e-03, -1.7377e-02,  1.9490e-02, -2.8985e-04, -1.7572e-02,\n",
       "                      -1.1137e-02, -1.4990e-02, -9.0651e-03, -4.0611e-03, -9.4088e-03,\n",
       "                       2.2647e-02, -3.0196e-02, -3.5728e-02, -6.6926e-03, -1.8235e-02,\n",
       "                      -1.3577e-02,  2.2387e-02, -7.0547e-03,  2.2476e-02, -2.1427e-02,\n",
       "                       1.5894e-02,  2.4013e-02, -2.9836e-02, -7.2336e-03,  3.0048e-02,\n",
       "                      -2.5509e-02,  2.3317e-02, -3.2268e-02,  2.6271e-02,  2.7684e-03,\n",
       "                       3.4235e-02,  3.8472e-02, -3.3443e-02, -3.7213e-02, -1.0977e-02,\n",
       "                       1.8977e-02, -1.4460e-02, -2.6493e-02, -2.8334e-02, -4.7852e-03,\n",
       "                       2.1536e-02,  8.5486e-03,  3.5286e-02, -1.0478e-02, -2.0173e-02,\n",
       "                       7.4436e-03,  3.6125e-02,  9.2069e-04, -1.2770e-03, -2.3844e-02,\n",
       "                      -1.0481e-02, -3.6551e-02,  2.7581e-02, -2.7903e-02, -1.1840e-02,\n",
       "                      -1.2412e-02, -9.4097e-04,  1.9136e-02,  3.0709e-02,  1.5438e-02,\n",
       "                      -1.0684e-02, -2.9404e-02,  3.9983e-03, -2.6132e-02, -1.2364e-02,\n",
       "                       2.0716e-02, -1.9888e-02, -1.5433e-02, -1.8522e-05,  1.5870e-02,\n",
       "                       3.7383e-02,  2.9996e-02,  5.3423e-03, -3.0109e-02,  3.3519e-02,\n",
       "                       1.0179e-02, -2.6779e-02,  3.7209e-02, -2.5602e-02,  2.8325e-02,\n",
       "                      -2.1879e-02,  3.3559e-02,  3.6894e-02,  2.9456e-02,  1.6163e-02,\n",
       "                       2.0043e-02, -2.6803e-02, -2.3848e-02,  2.0955e-02, -1.2315e-02,\n",
       "                      -1.4313e-02, -2.0508e-03,  3.5926e-03, -1.9237e-04, -1.9599e-02,\n",
       "                      -3.3062e-02, -3.0416e-02,  3.2726e-02,  2.9415e-02,  3.2451e-02,\n",
       "                      -8.7615e-04,  1.2845e-03,  2.1781e-02, -2.4189e-02, -2.2737e-02,\n",
       "                      -3.8511e-02, -1.4963e-03, -6.7367e-03, -2.3844e-02, -3.3684e-02,\n",
       "                      -4.3266e-03, -1.3613e-02, -2.4428e-02,  8.4195e-03, -4.9795e-03,\n",
       "                       3.2969e-02, -1.8953e-02,  3.3022e-02,  4.0447e-02, -1.0913e-03,\n",
       "                      -2.7718e-03,  3.0040e-02, -6.3165e-03,  1.8300e-02, -3.2079e-02,\n",
       "                       5.8420e-03,  1.8746e-02, -1.5616e-02, -1.6818e-02,  3.1665e-02,\n",
       "                       2.2234e-02,  2.1446e-02, -1.5292e-02, -2.9627e-03, -4.0634e-02,\n",
       "                      -1.0414e-02,  1.4507e-02,  9.8610e-03, -3.2648e-02,  2.4529e-02,\n",
       "                      -6.0536e-03, -3.9915e-02, -2.5346e-02, -1.2005e-02,  9.5950e-03,\n",
       "                       1.1505e-03, -2.3097e-02,  2.9258e-02,  7.0932e-04, -3.0141e-02,\n",
       "                      -3.6377e-02,  4.0198e-03, -1.6144e-02, -3.5031e-02,  1.7254e-02,\n",
       "                      -1.3483e-03,  3.0441e-02,  3.7650e-02,  3.6268e-02,  6.5392e-03,\n",
       "                       2.2922e-02,  1.2990e-02,  3.5761e-02, -1.2742e-02,  2.9904e-03,\n",
       "                       3.4705e-02,  3.0715e-04, -2.7284e-02,  3.6902e-02, -2.3791e-02,\n",
       "                       3.8321e-02, -7.6503e-03,  3.7092e-02, -1.3791e-02, -2.3366e-03,\n",
       "                      -1.9763e-02, -1.6345e-02, -1.6451e-04, -3.7008e-02, -8.5993e-03,\n",
       "                      -3.0481e-02, -1.1962e-02, -2.9448e-02, -2.0096e-02,  3.0173e-02,\n",
       "                      -2.0749e-03, -2.8518e-02, -1.5402e-02,  2.9878e-02, -1.7415e-02,\n",
       "                       1.6040e-02,  1.0523e-02,  3.4884e-02,  1.0792e-03,  5.6562e-03,\n",
       "                      -3.7308e-02,  3.1288e-02, -5.9457e-03, -1.1752e-02,  1.9046e-02,\n",
       "                       2.6302e-03, -7.8775e-03,  2.0928e-02, -1.9445e-02,  3.5238e-02,\n",
       "                      -2.1246e-02, -3.4962e-02, -4.9822e-03,  1.1867e-02,  8.8805e-03,\n",
       "                      -1.7426e-02,  2.9918e-02,  3.9163e-02,  1.6600e-02,  8.4549e-03,\n",
       "                       3.1157e-02, -5.9134e-03,  1.4989e-02, -2.7293e-02, -3.8323e-03,\n",
       "                       1.1191e-02, -2.3911e-02, -8.3286e-03, -9.9017e-03, -1.1555e-02,\n",
       "                      -1.0635e-02, -2.4923e-02,  2.0598e-02, -3.4431e-02,  2.7433e-02,\n",
       "                      -3.0684e-02,  3.5031e-02, -3.1078e-02,  3.2048e-02,  2.4898e-03,\n",
       "                       2.1785e-02,  1.2963e-03,  3.7008e-03,  3.1572e-02, -2.9112e-02,\n",
       "                      -3.7306e-02,  2.6455e-02, -8.5847e-04,  2.1009e-02,  3.6403e-02,\n",
       "                      -6.8622e-03, -3.5440e-02,  1.0549e-02, -1.6895e-03,  1.2735e-02,\n",
       "                      -3.8604e-02,  3.6938e-02,  1.0532e-02, -2.5801e-02, -1.3455e-02,\n",
       "                       1.7520e-03,  2.7568e-02,  2.4126e-02, -2.8553e-02,  3.2511e-02,\n",
       "                       1.7777e-02,  3.7350e-02,  3.2867e-02,  2.9426e-02,  3.7166e-02,\n",
       "                      -2.7868e-02,  2.7601e-02,  9.8180e-03, -2.2052e-02, -4.6415e-03,\n",
       "                      -4.8400e-03, -4.0354e-02,  1.9600e-02, -1.9280e-02,  1.3723e-03,\n",
       "                      -1.1022e-02, -1.2617e-02,  4.9460e-03, -6.8324e-03,  2.4673e-02,\n",
       "                       1.8374e-02, -2.1309e-02,  1.7248e-02, -2.7684e-02,  2.9477e-02,\n",
       "                       4.0507e-02,  3.4103e-02,  3.4556e-02, -4.1239e-03,  2.2164e-02,\n",
       "                       3.3459e-02,  2.7509e-02, -3.5184e-02,  1.1302e-02,  9.6690e-03])),\n",
       "             ('ffn.2.weight',\n",
       "              tensor([[-0.0355, -0.0367,  0.0496,  0.0568,  0.0373, -0.0215,  0.0055, -0.0334,\n",
       "                       -0.0423, -0.0021, -0.0132,  0.0339, -0.0364,  0.0495, -0.0087,  0.0199,\n",
       "                        0.0514, -0.0482,  0.0471, -0.0250, -0.0311, -0.0326, -0.0149,  0.0273,\n",
       "                       -0.0200,  0.0090,  0.0019, -0.0309, -0.0383,  0.0312,  0.0185, -0.0011,\n",
       "                       -0.0410, -0.0393,  0.0284,  0.0171, -0.0008, -0.0240, -0.0559,  0.0225,\n",
       "                        0.0279, -0.0282,  0.0546,  0.0277,  0.0153, -0.0558,  0.0489, -0.0471,\n",
       "                       -0.0083, -0.0361, -0.0287,  0.0490,  0.0451, -0.0428,  0.0181, -0.0482,\n",
       "                       -0.0355,  0.0135, -0.0313,  0.0012,  0.0325,  0.0537,  0.0339, -0.0121,\n",
       "                       -0.0085,  0.0037,  0.0036,  0.0457,  0.0237, -0.0481, -0.0149,  0.0436,\n",
       "                       -0.0218,  0.0027,  0.0130,  0.0164,  0.0174, -0.0376,  0.0212,  0.0118,\n",
       "                        0.0032,  0.0076,  0.0281, -0.0131,  0.0500,  0.0176, -0.0032, -0.0350,\n",
       "                       -0.0165, -0.0351, -0.0053,  0.0340,  0.0212, -0.0034, -0.0445, -0.0270,\n",
       "                        0.0002, -0.0495, -0.0382, -0.0442,  0.0347, -0.0443, -0.0356,  0.0169,\n",
       "                       -0.0006, -0.0207, -0.0373, -0.0370, -0.0376,  0.0402, -0.0157,  0.0109,\n",
       "                       -0.0404, -0.0300, -0.0297, -0.0008,  0.0306, -0.0476,  0.0521,  0.0465,\n",
       "                        0.0423,  0.0112, -0.0288,  0.0128, -0.0514, -0.0348, -0.0039, -0.0576,\n",
       "                       -0.0519, -0.0288,  0.0234,  0.0180,  0.0329, -0.0121, -0.0255,  0.0232,\n",
       "                        0.0138, -0.0229,  0.0358, -0.0398,  0.0381, -0.0097,  0.0161,  0.0076,\n",
       "                       -0.0342,  0.0491,  0.0082, -0.0093, -0.0428,  0.0416, -0.0433, -0.0056,\n",
       "                       -0.0013,  0.0544,  0.0577, -0.0372, -0.0166, -0.0056, -0.0274,  0.0287,\n",
       "                       -0.0574, -0.0267, -0.0300,  0.0133, -0.0353, -0.0148, -0.0465,  0.0473,\n",
       "                        0.0570, -0.0403, -0.0235,  0.0234, -0.0235,  0.0388, -0.0547, -0.0453,\n",
       "                        0.0015,  0.0321,  0.0075,  0.0059, -0.0329,  0.0040, -0.0188, -0.0454,\n",
       "                       -0.0120,  0.0532, -0.0038, -0.0316,  0.0085, -0.0267,  0.0051, -0.0145,\n",
       "                       -0.0551, -0.0181,  0.0161,  0.0244, -0.0144, -0.0430,  0.0117,  0.0573,\n",
       "                        0.0514,  0.0089,  0.0116, -0.0440,  0.0122,  0.0240,  0.0569,  0.0210,\n",
       "                       -0.0210,  0.0369, -0.0211, -0.0479, -0.0342, -0.0046,  0.0560, -0.0343,\n",
       "                        0.0324, -0.0090, -0.0238, -0.0249, -0.0004,  0.0482,  0.0215, -0.0494,\n",
       "                       -0.0307,  0.0262,  0.0283,  0.0442,  0.0333, -0.0096,  0.0076, -0.0092,\n",
       "                       -0.0016, -0.0142,  0.0394, -0.0352,  0.0301,  0.0556,  0.0402,  0.0526,\n",
       "                        0.0221, -0.0123,  0.0465,  0.0057, -0.0508,  0.0422, -0.0278,  0.0069,\n",
       "                       -0.0279,  0.0274,  0.0386,  0.0500,  0.0210, -0.0236, -0.0493,  0.0499,\n",
       "                       -0.0075,  0.0159, -0.0042, -0.0312, -0.0469,  0.0007,  0.0502,  0.0378,\n",
       "                       -0.0054, -0.0541,  0.0254, -0.0127, -0.0429,  0.0081,  0.0014, -0.0178,\n",
       "                       -0.0325,  0.0290,  0.0512,  0.0216, -0.0193,  0.0415,  0.0144, -0.0190,\n",
       "                       -0.0123,  0.0130, -0.0047, -0.0290,  0.0509, -0.0563,  0.0330, -0.0408,\n",
       "                       -0.0456, -0.0421, -0.0377,  0.0215, -0.0227,  0.0165, -0.0474,  0.0535,\n",
       "                       -0.0330,  0.0041, -0.0233, -0.0289]])),\n",
       "             ('ffn.2.bias', tensor([-0.0342]))])"
      ]
     },
     "execution_count": 255,
     "metadata": {},
     "output_type": "execute_result"
    }
   ],
   "source": [
    "embed.state_dict()"
   ]
  },
  {
   "cell_type": "code",
   "execution_count": 256,
   "metadata": {},
   "outputs": [
    {
     "data": {
      "text/plain": [
       "{'CC1=CC(=CC(C)=C1OC1=C(Br)C(N)=NC(NC2=CC=C(C=C2)C#N)=N1)C#N': 0,\n",
       " 'COC1=C(C=CC(=C1)/C=C/C(=O)CC(=O)/C=C/C2=CC(=C(C=C2)O)OC)O': 1,\n",
       " 'COC1=CC2=C(C(O)=C1)C(=O)C1=C(C=C(C)C=C1O)C2=O': 2,\n",
       " 'CCCCN(CCCC)CC(O)C1=C2C(=CC(Cl)=C1)\\\\C(=C/C1=CC=C(Cl)C=C1)C1=C2C=CC(Cl)=C1': 3,\n",
       " 'C1=CC=C(C=C1)CCCCOC2=CC=C(C=C2)C(=O)NC3=CC=CC4=C3OC(=CC4=O)C5=NNN=N5': 4,\n",
       " '[H][C@@]1(C[C@@H](C)[C@]2([H])CC(=O)[C@H](C)\\\\C=C(C)\\\\[C@@H](O)[C@@H](OC)C(=O)[C@H](C)C[C@H](C)\\\\C=C\\\\C=C\\\\C=C(C)\\\\[C@H](C[C@]3([H])CC[C@@H](C)[C@@](O)(O3)C(=O)C(=O)N3CCCC[C@@]3([H])C(=O)O2)OC)CC[C@@H](O)[C@@H](C1)OC': 5,\n",
       " '[H][C@@]12CCCC[C@]1([H])CN(C[C@@H](O)[C@H](CSC1=CC=CC=C1)NC(=O)C1=C(C)C(O)=CC=C1)[C@@H](C2)C(=O)NC(C)(C)C': 6,\n",
       " 'COC1=C(OCCCN2CCOCC2)C=C2C(NC3=CC(Cl)=C(F)C=C3)=NC=NC2=C1': 7,\n",
       " 'Cl.CN(C)CCCN1C2=CC=CC=C2SC2=C1C=C(Cl)C=C2': 8,\n",
       " 'ClC1=CC=C(COC(CN2C=CN=C2)C2=C(Cl)C=C(Cl)C=C2)C=C1': 9,\n",
       " '[H][C@@]12CC[C@H](O)[C@@]1(C)CC[C@@]1([H])C2[C@H](CCCCCCCCCS(=O)CCCC(F)(F)C(F)(F)F)CC2=CC(O)=CC=C12': 10,\n",
       " 'CC1=CC(\\\\C=C\\\\C#N)=CC(C)=C1NC1=CC=NC(NC2=CC=C(C=C2)C#N)=N1': 11,\n",
       " 'CC(C)N=C1C=C2C(=NC3=CC=CC=C3N2C4=CC=C(C=C4)Cl)C=C1NC5=CC=C(C=C5)Cl': 12,\n",
       " 'OC1=C([C@H]2CC[C@@H](CC2)C2=CC=C(Cl)C=C2)C(=O)C2=CC=CC=C2C1=O': 13,\n",
       " '[H][C@]12[C@H](OC(=O)C3=CC=CC=C3)[C@]3(O)C[C@H](OC(=O)[C@H](O)[C@@H](NC(=O)C4=CC=CC=C4)C4=CC=CC=C4)C(C)=C([C@@H](OC(C)=O)C(=O)[C@]1(C)[C@@H](O)C[C@H]1OC[C@@]21OC(C)=O)C3(C)C': 14,\n",
       " 'CNC(=O)C1=NC=CC(OC2=CC=C(NC(=O)NC3=CC(=C(Cl)C=C3)C(F)(F)F)C=C2)=C1': 15}"
      ]
     },
     "execution_count": 256,
     "metadata": {},
     "output_type": "execute_result"
    }
   ],
   "source": [
    "with open(EMBED_PATH+'embedMap.pkl','rb') as f:\n",
    "    tmp = pkl.load(f)\n",
    "    drugIdx = tmp['drug']\n",
    "    cmpdIdx = tmp['cmpd']\n",
    "drugIdx"
   ]
  },
  {
   "cell_type": "code",
   "execution_count": 257,
   "metadata": {},
   "outputs": [
    {
     "data": {
      "text/plain": [
       "(torch.Size([16, 300]), torch.Size([89, 300]))"
      ]
     },
     "execution_count": 257,
     "metadata": {},
     "output_type": "execute_result"
    }
   ],
   "source": [
    "embed.state_dict()['drug.weight'].shape, embed.state_dict()['cmpd.weight'].shape"
   ]
  },
  {
   "cell_type": "code",
   "execution_count": 258,
   "metadata": {},
   "outputs": [],
   "source": [
    "rev_drugIdx = {drugIdx[key]: key for key in drugIdx}\n",
    "rev_cmpdIdx = {cmpdIdx[key]: key for key in cmpdIdx}\n",
    "drug_inp = [rev_drugIdx[i] for i in range(len(drugIdx))]\n",
    "cmpd_inp = [rev_cmpdIdx[i] for i in range(len(cmpdIdx))]"
   ]
  },
  {
   "cell_type": "code",
   "execution_count": 259,
   "metadata": {},
   "outputs": [
    {
     "data": {
      "text/plain": [
       "torch.Size([16, 300])"
      ]
     },
     "execution_count": 259,
     "metadata": {},
     "output_type": "execute_result"
    }
   ],
   "source": [
    "gcn(drug_inp).shape"
   ]
  },
  {
   "cell_type": "code",
   "execution_count": 260,
   "metadata": {},
   "outputs": [],
   "source": [
    "from chemprop.nn_utils import initialize_weights"
   ]
  },
  {
   "cell_type": "code",
   "execution_count": 261,
   "metadata": {},
   "outputs": [],
   "source": [
    "gcn = MPN(args, 133, 147, False)\n",
    "initialize_weights(gcn)"
   ]
  },
  {
   "cell_type": "code",
   "execution_count": 262,
   "metadata": {},
   "outputs": [],
   "source": [
    "optimizer = optim.Adam(gcn.parameters(),lr=1e-3)\n",
    "criterion = nn.MSELoss()\n",
    "target = embed.state_dict()['drug.weight']"
   ]
  },
  {
   "cell_type": "code",
   "execution_count": 263,
   "metadata": {},
   "outputs": [
    {
     "name": "stdout",
     "output_type": "stream",
     "text": [
      "0 0.19569045305252075\n",
      "2 0.04990845546126366\n",
      "4 0.03168989717960358\n",
      "6 0.02933349274098873\n",
      "8 0.028050759807229042\n",
      "10 0.027328046038746834\n",
      "12 0.02702445350587368\n",
      "14 0.026738246902823448\n",
      "16 0.02622872032225132\n",
      "18 0.02584933303296566\n",
      "20 0.0256013423204422\n",
      "22 0.025358177721500397\n",
      "24 0.025066224858164787\n",
      "26 0.024886757135391235\n",
      "28 0.024783562868833542\n"
     ]
    }
   ],
   "source": [
    "gcn.train()\n",
    "for epoch in range(30):\n",
    "    optimizer.zero_grad()\n",
    "    output = gcn(drug_inp)\n",
    "    loss = criterion(output.view(target.shape), target)\n",
    "    \n",
    "    loss.backward()                                                                                    \n",
    "    optimizer.step()\n",
    "    if epoch%2 == 0:\n",
    "        print(epoch, float(loss))"
   ]
  },
  {
   "cell_type": "code",
   "execution_count": 265,
   "metadata": {},
   "outputs": [
    {
     "data": {
      "text/plain": [
       "(tensor([3.2034, 3.2982, 3.4855, 3.2189, 3.5698, 3.5211, 2.8620, 3.5904, 3.4785,\n",
       "         2.7794, 2.9265, 3.2162, 3.4490, 2.7352, 3.6324, 3.1991]),\n",
       " tensor(0.0109))"
      ]
     },
     "execution_count": 265,
     "metadata": {},
     "output_type": "execute_result"
    }
   ],
   "source": [
    "target.norm(dim=1), target.norm(dim=1).mean()/300"
   ]
  },
  {
   "cell_type": "code",
   "execution_count": 266,
   "metadata": {},
   "outputs": [
    {
     "data": {
      "text/plain": [
       "tensor(0.0246, grad_fn=<MseLossBackward>)"
      ]
     },
     "execution_count": 266,
     "metadata": {},
     "output_type": "execute_result"
    }
   ],
   "source": [
    "output = gcn(drug_inp)\n",
    "criterion(output.view(target.shape), target)"
   ]
  },
  {
   "cell_type": "code",
   "execution_count": 267,
   "metadata": {},
   "outputs": [],
   "source": [
    "torch.save(gcn.state_dict(), 'drug_gcn.pt')"
   ]
  },
  {
   "cell_type": "code",
   "execution_count": 268,
   "metadata": {},
   "outputs": [],
   "source": [
    "gcn = MPN(args, 133, 147, False)\n",
    "gcn.load_state_dict(torch.load('drug_gcn.pt'))\n",
    "new_state_dict = OrderedDict()\n",
    "\n",
    "for key, value in gcn.state_dict().items():\n",
    "    new_key = 'drug_encoder.' + key\n",
    "    new_state_dict[new_key] = value\n",
    "\n",
    "torch.save(new_state_dict, 'drug_gcn.pt')"
   ]
  },
  {
   "cell_type": "code",
   "execution_count": 269,
   "metadata": {},
   "outputs": [
    {
     "name": "stdout",
     "output_type": "stream",
     "text": [
      "__init__.py                           drug_gcn2.pt\r\n",
      "\u001b[34m__pycache__\u001b[m\u001b[m/                          embedMatrix.py\r\n",
      "\u001b[34maggModels_dim300_batch5k\u001b[m\u001b[m/             embed_model.pt\r\n",
      "\u001b[34mantiModels_dim300_batch5k_initXavier\u001b[m\u001b[m/ extractGcn.py\r\n",
      "cmpd_gcn.pt                           teacherForce.ipynb\r\n",
      "drug_gcn.pt\r\n"
     ]
    }
   ],
   "source": [
    "ls"
   ]
  },
  {
   "cell_type": "code",
   "execution_count": 270,
   "metadata": {},
   "outputs": [
    {
     "data": {
      "text/plain": [
       "torch.Size([16, 1])"
      ]
     },
     "execution_count": 270,
     "metadata": {},
     "output_type": "execute_result"
    }
   ],
   "source": [
    "torch.bmm(output.unsqueeze(1), output.unsqueeze(2)).squeeze(-1).shape"
   ]
  },
  {
   "cell_type": "code",
   "execution_count": 271,
   "metadata": {},
   "outputs": [
    {
     "data": {
      "text/plain": [
       "torch.Size([16, 300])"
      ]
     },
     "execution_count": 271,
     "metadata": {},
     "output_type": "execute_result"
    }
   ],
   "source": [
    "output.shape"
   ]
  },
  {
   "cell_type": "code",
   "execution_count": 272,
   "metadata": {},
   "outputs": [],
   "source": [
    "gcn = MPN(args, 133, 147, False)\n",
    "initialize_weights(gcn)"
   ]
  },
  {
   "cell_type": "code",
   "execution_count": 273,
   "metadata": {},
   "outputs": [],
   "source": [
    "optimizer = optim.Adam(gcn.parameters(),lr=1e-3)\n",
    "criterion = nn.MSELoss()\n",
    "target = embed.state_dict()['cmpd.weight']"
   ]
  },
  {
   "cell_type": "code",
   "execution_count": 274,
   "metadata": {},
   "outputs": [
    {
     "name": "stdout",
     "output_type": "stream",
     "text": [
      "0 0.001163952387450786\n",
      "2 0.00045020149999789975\n",
      "4 0.0003356217417154419\n",
      "6 0.0003058636833107873\n",
      "8 0.00029362595818015967\n",
      "10 0.00028929097598858096\n",
      "12 0.00028536334801255986\n",
      "14 0.0002813430482082153\n",
      "16 0.0002778048595685637\n",
      "18 0.0002748671333106716\n",
      "20 0.0002721398650260454\n",
      "22 0.0002700091664041026\n",
      "24 0.00026826727926061397\n",
      "26 0.0002667026991924543\n",
      "28 0.00026527446893493783\n"
     ]
    }
   ],
   "source": [
    "gcn.train()\n",
    "for epoch in range(30):\n",
    "    optimizer.zero_grad()\n",
    "    output = gcn(cmpd_inp)\n",
    "    loss = criterion(output.view(target.shape), target)\n",
    "    \n",
    "    loss.backward()                                                                                    \n",
    "    optimizer.step()\n",
    "    if epoch%2 == 0:\n",
    "        print(epoch, float(loss))"
   ]
  },
  {
   "cell_type": "code",
   "execution_count": 275,
   "metadata": {},
   "outputs": [
    {
     "data": {
      "text/plain": [
       "tensor([0.0112, 0.0111, 0.0096, 0.0078, 0.0112, 0.0081, 0.0110, 0.0086, 0.0113,\n",
       "        0.0082, 0.0112, 0.0083, 0.0114, 0.0112, 0.0091, 0.0106, 0.0083, 0.0066,\n",
       "        0.0081, 0.0111, 0.0077, 0.0113, 0.0112, 0.0112, 0.0091, 0.0111, 0.0113,\n",
       "        0.0112, 0.0095, 0.0113, 0.0113, 0.0112, 0.0112, 0.0088, 0.0076, 0.0113,\n",
       "        0.0111, 0.0094, 0.0091, 0.0113, 0.0093, 0.0102, 0.0113, 0.0081, 0.0113,\n",
       "        0.0110, 0.0113, 0.0088, 0.0110, 0.0113, 0.0112, 0.0113, 0.0112, 0.0112,\n",
       "        0.0113, 0.0082, 0.0111, 0.0075, 0.0111, 0.0080, 0.0111, 0.0110, 0.0112,\n",
       "        0.0085, 0.0091, 0.0110, 0.0112, 0.0093, 0.0092, 0.0113, 0.0086, 0.0111,\n",
       "        0.0112, 0.0087, 0.0110, 0.0112, 0.0113, 0.0082, 0.0112, 0.0113, 0.0113,\n",
       "        0.0111, 0.0091, 0.0112, 0.0111, 0.0112, 0.0113, 0.0083, 0.0084])"
      ]
     },
     "execution_count": 275,
     "metadata": {},
     "output_type": "execute_result"
    }
   ],
   "source": [
    "target.norm(dim=1)/300"
   ]
  },
  {
   "cell_type": "code",
   "execution_count": 276,
   "metadata": {},
   "outputs": [
    {
     "data": {
      "text/plain": [
       "tensor(0.0235, grad_fn=<MseLossBackward>)"
      ]
     },
     "execution_count": 276,
     "metadata": {},
     "output_type": "execute_result"
    }
   ],
   "source": [
    "output = gcn(cmpd_inp)\n",
    "criterion(output.view(target.shape), target)"
   ]
  },
  {
   "cell_type": "code",
   "execution_count": 277,
   "metadata": {},
   "outputs": [],
   "source": [
    "torch.save(gcn.state_dict(), 'cmpd_gcn.pt')"
   ]
  },
  {
   "cell_type": "code",
   "execution_count": 278,
   "metadata": {},
   "outputs": [],
   "source": [
    "gcn = MPN(args, 133, 147, False)\n",
    "gcn.load_state_dict(torch.load('cmpd_gcn.pt'))\n",
    "new_state_dict = OrderedDict()\n",
    "\n",
    "for key, value in gcn.state_dict().items():\n",
    "    new_key = 'cmpd_encoder.' + key\n",
    "    new_state_dict[new_key] = value\n",
    "\n",
    "torch.save(new_state_dict, 'cmpd_gcn.pt')"
   ]
  },
  {
   "cell_type": "code",
   "execution_count": 279,
   "metadata": {},
   "outputs": [
    {
     "name": "stdout",
     "output_type": "stream",
     "text": [
      "__init__.py                           drug_gcn2.pt\r\n",
      "\u001b[34m__pycache__\u001b[m\u001b[m/                          embedMatrix.py\r\n",
      "\u001b[34maggModels_dim300_batch5k\u001b[m\u001b[m/             embed_model.pt\r\n",
      "\u001b[34mantiModels_dim300_batch5k_initXavier\u001b[m\u001b[m/ extractGcn.py\r\n",
      "cmpd_gcn.pt                           teacherForce.ipynb\r\n",
      "drug_gcn.pt\r\n"
     ]
    }
   ],
   "source": [
    "ls"
   ]
  },
  {
   "cell_type": "markdown",
   "metadata": {},
   "source": [
    "## Transfer Learning"
   ]
  },
  {
   "cell_type": "code",
   "execution_count": 190,
   "metadata": {},
   "outputs": [],
   "source": [
    "from chemprop.models import build_model"
   ]
  },
  {
   "cell_type": "code",
   "execution_count": 192,
   "metadata": {},
   "outputs": [
    {
     "data": {
      "text/plain": [
       "MoleculeModel(\n",
       "  (sigmoid): Sigmoid()\n",
       "  (drug_encoder): MPN(\n",
       "    (encoder): MPNEncoder(\n",
       "      (dropout_layer): Dropout(p=0.0, inplace=False)\n",
       "      (act_func): ReLU()\n",
       "      (W_i): Linear(in_features=147, out_features=300, bias=False)\n",
       "      (W_h): Linear(in_features=300, out_features=300, bias=False)\n",
       "      (W_o): Linear(in_features=433, out_features=300, bias=True)\n",
       "    )\n",
       "  )\n",
       "  (cmpd_encoder): MPN(\n",
       "    (encoder): MPNEncoder(\n",
       "      (dropout_layer): Dropout(p=0.0, inplace=False)\n",
       "      (act_func): ReLU()\n",
       "      (W_i): Linear(in_features=147, out_features=300, bias=False)\n",
       "      (W_h): Linear(in_features=300, out_features=300, bias=False)\n",
       "      (W_o): Linear(in_features=433, out_features=300, bias=True)\n",
       "    )\n",
       "  )\n",
       "  (ffn): Sequential(\n",
       "    (0): Dropout(p=0.0, inplace=False)\n",
       "    (1): Linear(in_features=600, out_features=300, bias=True)\n",
       "    (2): ReLU()\n",
       "    (3): Dropout(p=0.0, inplace=False)\n",
       "    (4): Linear(in_features=300, out_features=1, bias=True)\n",
       "  )\n",
       ")"
      ]
     },
     "execution_count": 192,
     "metadata": {},
     "output_type": "execute_result"
    }
   ],
   "source": [
    "args.num_tasks = 1\n",
    "model = build_model(args)\n",
    "model"
   ]
  },
  {
   "cell_type": "code",
   "execution_count": 193,
   "metadata": {},
   "outputs": [
    {
     "data": {
      "text/plain": [
       "MPN(\n",
       "  (encoder): MPNEncoder(\n",
       "    (dropout_layer): Dropout(p=0.0, inplace=False)\n",
       "    (act_func): ReLU()\n",
       "    (W_i): Linear(in_features=147, out_features=300, bias=False)\n",
       "    (W_h): Linear(in_features=300, out_features=300, bias=False)\n",
       "    (W_o): Linear(in_features=433, out_features=300, bias=True)\n",
       "  )\n",
       ")"
      ]
     },
     "execution_count": 193,
     "metadata": {},
     "output_type": "execute_result"
    }
   ],
   "source": [
    "model.cmpd_encoder"
   ]
  },
  {
   "cell_type": "code",
   "execution_count": 207,
   "metadata": {},
   "outputs": [
    {
     "data": {
      "text/plain": [
       "_IncompatibleKeys(missing_keys=['cmpd_encoder.encoder.cached_zero_vector', 'cmpd_encoder.encoder.W_i.weight', 'cmpd_encoder.encoder.W_h.weight', 'cmpd_encoder.encoder.W_o.weight', 'cmpd_encoder.encoder.W_o.bias', 'ffn.1.weight', 'ffn.1.bias', 'ffn.4.weight', 'ffn.4.bias'], unexpected_keys=[])"
      ]
     },
     "execution_count": 207,
     "metadata": {},
     "output_type": "execute_result"
    }
   ],
   "source": [
    "lol = model.load_state_dict(torch.load('cmpd_gcn.pt'), strict=False)\n",
    "model.load_state_dict(torch.load('drug_gcn.pt'), strict=False)"
   ]
  },
  {
   "cell_type": "code",
   "execution_count": 219,
   "metadata": {},
   "outputs": [
    {
     "data": {
      "text/plain": [
       "4"
      ]
     },
     "execution_count": 219,
     "metadata": {},
     "output_type": "execute_result"
    }
   ],
   "source": [
    "sum(['ffn' in key for key in model.state_dict().keys()])"
   ]
  },
  {
   "cell_type": "markdown",
   "metadata": {},
   "source": [
    "### Verify that it's actually outputting the embeddings"
   ]
  },
  {
   "cell_type": "code",
   "execution_count": 200,
   "metadata": {},
   "outputs": [
    {
     "data": {
      "text/plain": [
       "tensor(0.0015)"
      ]
     },
     "execution_count": 200,
     "metadata": {},
     "output_type": "execute_result"
    }
   ],
   "source": [
    "output = model.drug_encoder(drug_inp)\n",
    "criterion(output, embed.state_dict()['drug.weight'])/len(drug_inp)"
   ]
  },
  {
   "cell_type": "code",
   "execution_count": 201,
   "metadata": {},
   "outputs": [
    {
     "data": {
      "text/plain": [
       "tensor(0.0003)"
      ]
     },
     "execution_count": 201,
     "metadata": {},
     "output_type": "execute_result"
    }
   ],
   "source": [
    "output = model.cmpd_encoder(cmpd_inp)\n",
    "criterion(output, embed.state_dict()['cmpd.weight'])/len(cmpd_inp)"
   ]
  },
  {
   "cell_type": "code",
   "execution_count": 199,
   "metadata": {},
   "outputs": [
    {
     "name": "stdout",
     "output_type": "stream",
     "text": [
      "drug_encoder.encoder.cached_zero_vector False -> False\n",
      "drug_encoder.encoder.W_i.weight False -> False\n",
      "drug_encoder.encoder.W_h.weight False -> False\n",
      "drug_encoder.encoder.W_o.weight False -> False\n",
      "drug_encoder.encoder.W_o.bias False -> False\n",
      "cmpd_encoder.encoder.cached_zero_vector False -> False\n",
      "cmpd_encoder.encoder.W_i.weight False -> False\n",
      "cmpd_encoder.encoder.W_h.weight False -> False\n",
      "cmpd_encoder.encoder.W_o.weight False -> False\n",
      "cmpd_encoder.encoder.W_o.bias False -> False\n",
      "ffn.1.weight True -> True\n",
      "ffn.1.bias True -> True\n",
      "ffn.4.weight True -> True\n",
      "ffn.4.bias True -> True\n"
     ]
    }
   ],
   "source": [
    "for name, param in model.named_parameters():\n",
    "    print(name, param.requires_grad, '->', 'ffn' in name)\n",
    "    if 'ffn' not in name:\n",
    "        param.requires_grad = False"
   ]
  },
  {
   "cell_type": "code",
   "execution_count": 202,
   "metadata": {},
   "outputs": [],
   "source": [
    "torch.save(model.state_dict(), 'embed_model.pt')"
   ]
  },
  {
   "cell_type": "code",
   "execution_count": 205,
   "metadata": {},
   "outputs": [
    {
     "data": {
      "text/plain": [
       "MPN(\n",
       "  (encoder): MPNEncoder(\n",
       "    (dropout_layer): Dropout(p=0.0, inplace=False)\n",
       "    (act_func): ReLU()\n",
       "    (W_i): Linear(in_features=147, out_features=300, bias=False)\n",
       "    (W_h): Linear(in_features=300, out_features=300, bias=False)\n",
       "    (W_o): Linear(in_features=433, out_features=300, bias=True)\n",
       "  )\n",
       ")"
      ]
     },
     "execution_count": 205,
     "metadata": {},
     "output_type": "execute_result"
    }
   ],
   "source": [
    "MPN(args)"
   ]
  },
  {
   "cell_type": "code",
   "execution_count": 245,
   "metadata": {},
   "outputs": [
    {
     "data": {
      "text/plain": [
       "tensor(0.0234)"
      ]
     },
     "execution_count": 245,
     "metadata": {},
     "output_type": "execute_result"
    }
   ],
   "source": [
    "criterion(output, target)"
   ]
  },
  {
   "cell_type": "code",
   "execution_count": 248,
   "metadata": {},
   "outputs": [
    {
     "data": {
      "text/plain": [
       "tensor(0.0234)"
      ]
     },
     "execution_count": 248,
     "metadata": {},
     "output_type": "execute_result"
    }
   ],
   "source": [
    "(output-target).pow(2).sum()/(target.shape[0]*target.shape[1])"
   ]
  },
  {
   "cell_type": "code",
   "execution_count": 251,
   "metadata": {},
   "outputs": [
    {
     "data": {
      "text/plain": [
       "tensor(0.0326)"
      ]
     },
     "execution_count": 251,
     "metadata": {},
     "output_type": "execute_result"
    }
   ],
   "source": [
    "target.pow(2).sum()/(target.shape[0]*target.shape[1])"
   ]
  },
  {
   "cell_type": "markdown",
   "metadata": {},
   "source": [
    "## Embedding Visualization"
   ]
  },
  {
   "cell_type": "code",
   "execution_count": 280,
   "metadata": {},
   "outputs": [],
   "source": [
    "from sklearn.decomposition import PCA\n",
    "import matplotlib.pyplot as plt"
   ]
  },
  {
   "cell_type": "code",
   "execution_count": 140,
   "metadata": {},
   "outputs": [
    {
     "data": {
      "text/plain": [
       "Text(0.5, 1.0, '% of hits per cmpd (AGG)')"
      ]
     },
     "execution_count": 140,
     "metadata": {},
     "output_type": "execute_result"
    },
    {
     "data": {
      "image/png": "[encoded data removed]",
      "text/plain": [
       "<Figure size 432x288 with 1 Axes>"
      ]
     },
     "metadata": {
      "needs_background": "light"
     },
     "output_type": "display_data"
    }
   ],
   "source": [
    "graph = []\n",
    "for key in range(len(rev_cmpdIdx)):\n",
    "    cmpd = rev_cmpdIdx[key]\n",
    "    pos = data[data.exSMILE == cmpd]['agg'].value_counts().get(1)\n",
    "    if pos:\n",
    "        graph.append(pos/len(data[data.exSMILE == cmpd]['agg']))\n",
    "    else:\n",
    "        graph.append(0)\n",
    "plt.hist(graph, bins=50)\n",
    "plt.title('% of hits per cmpd (AGG)')"
   ]
  },
  {
   "cell_type": "code",
   "execution_count": 139,
   "metadata": {
    "scrolled": true
   },
   "outputs": [
    {
     "data": {
      "text/plain": [
       "Text(0.5, 1.0, 'PCA for cmpds; blue has 0 hits (AGG)')"
      ]
     },
     "execution_count": 139,
     "metadata": {},
     "output_type": "execute_result"
    },
    {
     "data": {
      "image/png": "[encoded data removed]",
      "text/plain": [
       "<Figure size 432x288 with 1 Axes>"
      ]
     },
     "metadata": {
      "needs_background": "light"
     },
     "output_type": "display_data"
    }
   ],
   "source": [
    "X = PCA(n_components=2).fit(target).transform(target)\n",
    "for i in range(len(rev_cmpdIdx)):\n",
    "    plt.scatter(X[i][0], X[i][1], color = 'navy' if graph[i] == 0 else 'red')\n",
    "plt.title('PCA for cmpds; blue has 0 hits (AGG)')"
   ]
  },
  {
   "cell_type": "code",
   "execution_count": 146,
   "metadata": {},
   "outputs": [
    {
     "data": {
      "text/plain": [
       "Text(0.5, 1.0, '% of hits per drug (AGG)')"
      ]
     },
     "execution_count": 146,
     "metadata": {},
     "output_type": "execute_result"
    },
    {
     "data": {
      "image/png": "[encoded data removed]",
      "text/plain": [
       "<Figure size 432x288 with 1 Axes>"
      ]
     },
     "metadata": {
      "needs_background": "light"
     },
     "output_type": "display_data"
    }
   ],
   "source": [
    "graph = []\n",
    "for key in range(len(rev_drugIdx)):\n",
    "    drug = rev_drugIdx[key]\n",
    "    pos = data[data.drugSMILE == drug]['agg'].value_counts().get(1)\n",
    "    if pos:\n",
    "        graph.append(pos/len(data[data.drugSMILE == drug]['agg']))\n",
    "    else:\n",
    "        graph.append(0)\n",
    "plt.hist(graph, bins=50)\n",
    "plt.title('% of hits per drug (AGG)')"
   ]
  },
  {
   "cell_type": "code",
   "execution_count": 150,
   "metadata": {},
   "outputs": [
    {
     "data": {
      "text/plain": [
       "Text(0.5, 1.0, 'PCA for drug; # increasing hits from blue, red, green (AGG)')"
      ]
     },
     "execution_count": 150,
     "metadata": {},
     "output_type": "execute_result"
    },
    {
     "data": {
      "image/png": "[encoded data removed]",
      "text/plain": [
       "<Figure size 432x288 with 1 Axes>"
      ]
     },
     "metadata": {
      "needs_background": "light"
     },
     "output_type": "display_data"
    }
   ],
   "source": [
    "drug_target = embed.state_dict()['drug.weight']\n",
    "colors = ['navy', 'red', 'green']\n",
    "\n",
    "X = PCA(n_components=2).fit(drug_target).transform(drug_target)\n",
    "for i in range(len(rev_drugIdx)):\n",
    "    if graph[i] < 0.05:\n",
    "        col = 0\n",
    "    elif graph[i] < 0.11:\n",
    "        col = 1\n",
    "    else:\n",
    "        col = 2\n",
    "    plt.scatter(X[i][0], X[i][1], color = colors[col])\n",
    "plt.title('PCA for drug; # increasing hits from blue, red, green (AGG)')"
   ]
  },
  {
   "cell_type": "markdown",
   "metadata": {},
   "source": [
    "### Anti"
   ]
  },
  {
   "cell_type": "code",
   "execution_count": null,
   "metadata": {},
   "outputs": [],
   "source": []
  },
  {
   "cell_type": "code",
   "execution_count": 288,
   "metadata": {},
   "outputs": [
    {
     "data": {
      "text/plain": [
       "Text(0.5, 1.0, '% of hits per cmpd (AGG)')"
      ]
     },
     "execution_count": 288,
     "metadata": {},
     "output_type": "execute_result"
    },
    {
     "data": {
      "image/png": "[encoded data removed]",
      "text/plain": [
       "<Figure size 432x288 with 1 Axes>"
      ]
     },
     "metadata": {
      "needs_background": "light"
     },
     "output_type": "display_data"
    }
   ],
   "source": [
    "graph = []\n",
    "for key in range(len(rev_cmpdIdx)):\n",
    "    cmpd = rev_cmpdIdx[key]\n",
    "    pos = data[data.exSMILE == cmpd]['agg'].value_counts().get(1)\n",
    "    if pos:\n",
    "        graph.append(pos/len(data[data.exSMILE == cmpd]['agg']))\n",
    "    else:\n",
    "        graph.append(0)\n",
    "plt.hist(graph, bins=50)\n",
    "plt.title('% of hits per cmpd (AGG)')"
   ]
  },
  {
   "cell_type": "code",
   "execution_count": 295,
   "metadata": {},
   "outputs": [],
   "source": [
    "from mpl_toolkits.mplot3d import Axes3D"
   ]
  },
  {
   "cell_type": "code",
   "execution_count": 298,
   "metadata": {
    "scrolled": true
   },
   "outputs": [
    {
     "data": {
      "text/plain": [
       "Text(0.5, 0.92, 'PCA for cmpds; blue has 0 hits (AGG)')"
      ]
     },
     "execution_count": 298,
     "metadata": {},
     "output_type": "execute_result"
    },
    {
     "data": {
      "image/png": "[encoded data removed]",
      "text/plain": [
       "<Figure size 432x288 with 1 Axes>"
      ]
     },
     "metadata": {
      "needs_background": "light"
     },
     "output_type": "display_data"
    }
   ],
   "source": [
    "X = PCA(n_components=3).fit(target).transform(target)\n",
    "fig = plt.figure()\n",
    "ax = Axes3D(fig)\n",
    "for i in range(len(rev_cmpdIdx)):\n",
    "    ax.scatter(X[i][0], X[i][1], X[i][2], color = 'navy' if graph[i] == 0 else 'red')\n",
    "plt.title('PCA for cmpds; blue has 0 hits (AGG)')"
   ]
  },
  {
   "cell_type": "code",
   "execution_count": 299,
   "metadata": {},
   "outputs": [
    {
     "data": {
      "text/plain": [
       "Text(0.5, 1.0, 'PCA for cmpds; blue has 0 hits (AGG)')"
      ]
     },
     "execution_count": 299,
     "metadata": {},
     "output_type": "execute_result"
    },
    {
     "data": {
      "image/png": "[encoded data removed]",
      "text/plain": [
       "<Figure size 432x288 with 1 Axes>"
      ]
     },
     "metadata": {
      "needs_background": "light"
     },
     "output_type": "display_data"
    }
   ],
   "source": [
    "X = PCA(n_components=2).fit(target).transform(target)\n",
    "for i in range(len(rev_cmpdIdx)):\n",
    "    plt.scatter(X[i][0], X[i][1], color = 'navy' if graph[i] == 0 else 'red')\n",
    "plt.title('PCA for cmpds; blue has 0 hits (AGG)')"
   ]
  },
  {
   "cell_type": "code",
   "execution_count": 283,
   "metadata": {},
   "outputs": [
    {
     "data": {
      "text/plain": [
       "Text(0.5, 1.0, '% of hits per drug (AGG)')"
      ]
     },
     "execution_count": 283,
     "metadata": {},
     "output_type": "execute_result"
    },
    {
     "data": {
      "image/png": "[encoded data removed]",
      "text/plain": [
       "<Figure size 432x288 with 1 Axes>"
      ]
     },
     "metadata": {
      "needs_background": "light"
     },
     "output_type": "display_data"
    }
   ],
   "source": [
    "graph = []\n",
    "for key in range(len(rev_drugIdx)):\n",
    "    drug = rev_drugIdx[key]\n",
    "    pos = data[data.drugSMILE == drug]['agg'].value_counts().get(1)\n",
    "    if pos:\n",
    "        graph.append(pos/len(data[data.drugSMILE == drug]['agg']))\n",
    "    else:\n",
    "        graph.append(0)\n",
    "plt.hist(graph, bins=50)\n",
    "plt.title('% of hits per drug (AGG)')"
   ]
  },
  {
   "cell_type": "code",
   "execution_count": 284,
   "metadata": {},
   "outputs": [
    {
     "data": {
      "text/plain": [
       "Text(0.5, 1.0, 'PCA for drug; # increasing hits from blue, red, green (AGG)')"
      ]
     },
     "execution_count": 284,
     "metadata": {},
     "output_type": "execute_result"
    },
    {
     "data": {
      "image/png": "[encoded data removed]",
      "text/plain": [
       "<Figure size 432x288 with 1 Axes>"
      ]
     },
     "metadata": {
      "needs_background": "light"
     },
     "output_type": "display_data"
    }
   ],
   "source": [
    "drug_target = embed.state_dict()['drug.weight']\n",
    "colors = ['navy', 'red', 'green']\n",
    "\n",
    "X = PCA(n_components=2).fit(drug_target).transform(drug_target)\n",
    "for i in range(len(rev_drugIdx)):\n",
    "    if graph[i] < 0.05:\n",
    "        col = 0\n",
    "    elif graph[i] < 0.11:\n",
    "        col = 1\n",
    "    else:\n",
    "        col = 2\n",
    "    plt.scatter(X[i][0], X[i][1], color = colors[col])\n",
    "plt.title('PCA for drug; # increasing hits from blue, red, green (AGG)')"
   ]
  },
  {
   "cell_type": "code",
   "execution_count": null,
   "metadata": {},
   "outputs": [],
   "source": []
  }
 ],
 "metadata": {
  "kernelspec": {
   "display_name": "Python [conda env:pairchem]",
   "language": "python",
   "name": "conda-env-pairchem-py"
  },
  "language_info": {
   "codemirror_mode": {
    "name": "ipython",
    "version": 3
   },
   "file_extension": ".py",
   "mimetype": "text/x-python",
   "name": "python",
   "nbconvert_exporter": "python",
   "pygments_lexer": "ipython3",
   "version": "3.6.7"
  }
 },
 "nbformat": 4,
 "nbformat_minor": 2
}
